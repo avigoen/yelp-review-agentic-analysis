{
 "cells": [
  {
   "cell_type": "code",
   "execution_count": 1,
   "id": "ecfeee4e",
   "metadata": {},
   "outputs": [
    {
     "data": {
      "text/plain": [
       "True"
      ]
     },
     "execution_count": 1,
     "metadata": {},
     "output_type": "execute_result"
    }
   ],
   "source": [
    "from dotenv import load_dotenv\n",
    "load_dotenv()"
   ]
  },
  {
   "cell_type": "code",
   "execution_count": 2,
   "id": "3d685502",
   "metadata": {},
   "outputs": [],
   "source": [
    "import polars as pl\n",
    "\n",
    "from azure.ai.inference import ChatCompletionsClient\n",
    "from azure.ai.inference.models import SystemMessage, UserMessage\n",
    "from azure.core.credentials import AzureKeyCredential"
   ]
  },
  {
   "cell_type": "code",
   "execution_count": 3,
   "id": "0d2178a0",
   "metadata": {},
   "outputs": [],
   "source": [
    "splits = {'train': 'yelp_review_full/train-00000-of-00001.parquet', 'test': 'yelp_review_full/test-00000-of-00001.parquet'}\n",
    "train_df = pl.read_parquet('hf://datasets/Yelp/yelp_review_full/' + splits['train'])\n",
    "test_df = pl.read_parquet('hf://datasets/Yelp/yelp_review_full/' + splits['test'])"
   ]
  },
  {
   "cell_type": "code",
   "execution_count": 4,
   "id": "d50de142",
   "metadata": {},
   "outputs": [],
   "source": [
    "train_df.write_parquet(\"../data/train_yelp_review.parquet\")\n",
    "test_df.write_parquet(\"../data/test_yelp_review.parquet\")"
   ]
  },
  {
   "cell_type": "code",
   "execution_count": 5,
   "id": "79f4ed4d",
   "metadata": {},
   "outputs": [
    {
     "data": {
      "text/html": [
       "<div><style>\n",
       ".dataframe > thead > tr,\n",
       ".dataframe > tbody > tr {\n",
       "  text-align: right;\n",
       "  white-space: pre-wrap;\n",
       "}\n",
       "</style>\n",
       "<small>shape: (5, 2)</small><table border=\"1\" class=\"dataframe\"><thead><tr><th>label</th><th>text</th></tr><tr><td>i64</td><td>str</td></tr></thead><tbody><tr><td>4</td><td>&quot;dr. goldberg offers everything…</td></tr><tr><td>1</td><td>&quot;Unfortunately, the frustration…</td></tr><tr><td>3</td><td>&quot;Been going to Dr. Goldberg for…</td></tr><tr><td>3</td><td>&quot;Got a letter in the mail last …</td></tr><tr><td>0</td><td>&quot;I don&#x27;t know what Dr. Goldberg…</td></tr></tbody></table></div>"
      ],
      "text/plain": [
       "shape: (5, 2)\n",
       "┌───────┬─────────────────────────────────┐\n",
       "│ label ┆ text                            │\n",
       "│ ---   ┆ ---                             │\n",
       "│ i64   ┆ str                             │\n",
       "╞═══════╪═════════════════════════════════╡\n",
       "│ 4     ┆ dr. goldberg offers everything… │\n",
       "│ 1     ┆ Unfortunately, the frustration… │\n",
       "│ 3     ┆ Been going to Dr. Goldberg for… │\n",
       "│ 3     ┆ Got a letter in the mail last … │\n",
       "│ 0     ┆ I don't know what Dr. Goldberg… │\n",
       "└───────┴─────────────────────────────────┘"
      ]
     },
     "execution_count": 5,
     "metadata": {},
     "output_type": "execute_result"
    }
   ],
   "source": [
    "train_df.head()"
   ]
  },
  {
   "cell_type": "code",
   "execution_count": 6,
   "id": "65e45866",
   "metadata": {},
   "outputs": [],
   "source": [
    "# For Serverless API or Managed Compute endpoints\n",
    "from os import getenv\n",
    "\n",
    "\n",
    "client = ChatCompletionsClient(\n",
    "    endpoint=\"https://portfolio-resource.services.ai.azure.com/models\",\n",
    "    credential=AzureKeyCredential(getenv(\"AZURE_AI_INFERENCE_KEY\")),\n",
    "    api_version=\"2024-05-01-preview\"\n",
    ")\n",
    "model_name = \"mistral-small-2503\""
   ]
  },
  {
   "cell_type": "code",
   "execution_count": 7,
   "id": "0db932f2",
   "metadata": {},
   "outputs": [],
   "source": [
    "SYSTEM_PROMPT = \"\"\"You are a precise sentiment rating assistant.\n",
    "Given a single review, decide the star rating from 1-5 (1=very negative, 3=neutral/mixed, 5=very positive).\n",
    "Return ONLY a strict JSON object with keys 'stars' (an integer 1-5) and 'explanation' (a brief string).\n",
    "Do not include any extra keys or text outside JSON.\n",
    "Return strict JSON: {{\\\"stars\\\": <int>, \\\"explanation\\\": \\\"<short reason>\\\"}}.\n",
    "\"\"\"\n",
    "\n",
    "ZERO_SHOT_USER_TMPL = \"\"\"Classify the following review:\n",
    "\\\"\\\"\\\"{review_text}\\\"\\\"\\\"\"\"\""
   ]
  },
  {
   "cell_type": "code",
   "execution_count": 8,
   "id": "7003d7fe",
   "metadata": {},
   "outputs": [
    {
     "data": {
      "text/html": [
       "<div><style>\n",
       ".dataframe > thead > tr,\n",
       ".dataframe > tbody > tr {\n",
       "  text-align: right;\n",
       "  white-space: pre-wrap;\n",
       "}\n",
       "</style>\n",
       "<small>shape: (1, 2)</small><table border=\"1\" class=\"dataframe\"><thead><tr><th>label</th><th>text</th></tr><tr><td>i64</td><td>str</td></tr></thead><tbody><tr><td>4</td><td>&quot;dr. goldberg offers everything…</td></tr></tbody></table></div>"
      ],
      "text/plain": [
       "shape: (1, 2)\n",
       "┌───────┬─────────────────────────────────┐\n",
       "│ label ┆ text                            │\n",
       "│ ---   ┆ ---                             │\n",
       "│ i64   ┆ str                             │\n",
       "╞═══════╪═════════════════════════════════╡\n",
       "│ 4     ┆ dr. goldberg offers everything… │\n",
       "└───────┴─────────────────────────────────┘"
      ]
     },
     "execution_count": 8,
     "metadata": {},
     "output_type": "execute_result"
    }
   ],
   "source": [
    "first_review = train_df[0]\n",
    "first_review"
   ]
  },
  {
   "cell_type": "code",
   "execution_count": 9,
   "id": "c339ddd8",
   "metadata": {},
   "outputs": [
    {
     "data": {
      "text/plain": [
       "\"dr. goldberg offers everything i look for in a general practitioner.  he's nice and easy to talk to without being patronizing; he's always on time in seeing his patients; he's affiliated with a top-notch hospital (nyu) which my parents have explained to me is very important in case something happens and you need surgery; and you can get referrals to see specialists without having to see him first.  really, what more do you need?  i'm sitting here trying to think of any complaints i have about him, but i'm really drawing a blank.\""
      ]
     },
     "execution_count": 9,
     "metadata": {},
     "output_type": "execute_result"
    }
   ],
   "source": [
    "first_review['text'].item()"
   ]
  },
  {
   "cell_type": "code",
   "execution_count": 10,
   "id": "6252aafe",
   "metadata": {},
   "outputs": [],
   "source": [
    "response = client.complete(\n",
    "    messages=[\n",
    "        SystemMessage(content=SYSTEM_PROMPT),\n",
    "        UserMessage(content=ZERO_SHOT_USER_TMPL.format_map({'review_text': first_review['text'].item()})),\n",
    "    ],\n",
    "    max_tokens=128,\n",
    "    temperature=0.1,\n",
    "    top_p=0.95,\n",
    "    model=model_name,\n",
    "    response_format=\"json_object\"\n",
    ")"
   ]
  },
  {
   "cell_type": "code",
   "execution_count": 11,
   "id": "1c02efe8",
   "metadata": {},
   "outputs": [],
   "source": [
    "output = response.choices[0].message.content"
   ]
  },
  {
   "cell_type": "code",
   "execution_count": 12,
   "id": "8d06b1fb",
   "metadata": {},
   "outputs": [
    {
     "data": {
      "text/plain": [
       "{'stars': 5,\n",
       " 'explanation': 'The reviewer praises the doctor extensively, highlighting multiple positive attributes and struggles to find any complaints.'}"
      ]
     },
     "execution_count": 12,
     "metadata": {},
     "output_type": "execute_result"
    }
   ],
   "source": [
    "import json\n",
    "\n",
    "\n",
    "json.loads(output)"
   ]
  },
  {
   "cell_type": "markdown",
   "id": "3d294e41",
   "metadata": {},
   "source": [
    "## Few Shot"
   ]
  },
  {
   "cell_type": "code",
   "execution_count": 13,
   "id": "2378122e",
   "metadata": {},
   "outputs": [],
   "source": [
    "unique_entries = train_df.group_by(\"label\").agg(pl.all().sample(2, with_replacement=False))"
   ]
  },
  {
   "cell_type": "code",
   "execution_count": 14,
   "id": "9e9d9962",
   "metadata": {},
   "outputs": [],
   "source": [
    "few_shot_examples = []\n",
    "for row in unique_entries.iter_rows():\n",
    "    for review in row[1]:\n",
    "        few_shot_examples.append({\n",
    "            \"review_text\": review,\n",
    "            \"rating\": row[0] + 1\n",
    "        })"
   ]
  },
  {
   "cell_type": "code",
   "execution_count": 15,
   "id": "f3c4574a",
   "metadata": {},
   "outputs": [],
   "source": [
    "for example in few_shot_examples:\n",
    "    client.complete(\n",
    "        messages=[\n",
    "            SystemMessage(content=\"\"\"You are an expert sentiment analyst.\n",
    "    Understand the review provided by the user, the rating provided and provide a single line explanation as to why the review could have been provided.\n",
    "    Respond with only the explantion and nothing else.\n",
    "    \"\"\"),\n",
    "            UserMessage(content=f\"Review: \\\"\\\"\\\"{example['review_text']}\\\"\\\"\\\"\\nRating: {example['rating']}\"),\n",
    "        ],\n",
    "        max_tokens=128,\n",
    "        temperature=0.1,\n",
    "        top_p=0.95,\n",
    "        model=model_name,\n",
    "        response_format=\"text\"\n",
    "    )\n",
    "    explanation = response.choices[0].message.content\n",
    "    example['explanation'] = explanation"
   ]
  },
  {
   "cell_type": "code",
   "execution_count": 16,
   "id": "3d529514",
   "metadata": {},
   "outputs": [
    {
     "data": {
      "text/plain": [
       "[{'review_text': 'Ok, we switched rooms twice at HRH towers. My advice, stay away from the smoking rooms, they are tore back. All of the HRH and front staff at the main desk are awesome! They do care a lot about their guests. Remember approach determines response. Treat them well! We tipped housekeeping everyday. We love it here and our room after the second time is immaculate.  The spa is outstanding. I love it here. Oh but the WIFI sucks.',\n",
       "  'rating': 4,\n",
       "  'explanation': '{\"stars\": 5, \"explanation\": \"The reviewer praises the doctor extensively, highlighting multiple positive attributes and struggles to find any complaints.\"}'},\n",
       " {'review_text': '4.5 if I could....\\\\n\\\\nSo its my birthday and my wife hunts down \\\\\"Phoenix\\'s Best Sushi\\\\\" and comes up with this place near our home in Chandler.  Now I have friends just to the east of this intersection and I NEVER noticed this place before.  In an empty shopping center (basically) and very nondescript.\\\\n\\\\nSo we walk in and I was like OK. Tiny place, limited seating and two steps you are at the sushi bar.  Ambiance I learned is not why you  go here.\\\\n\\\\nSat down and learned its always HAPPY HOUR at Taiko.  So good priced rolls and Saki Bombers for $6.99.  Good deal.\\\\n\\\\nI had my two kids with me (along with my wife) and besides a Cali roll none of them are Sushi eaters.  My daughter LOVED the Miso Soup I tasted it and it was very good also. She also got the Chicken Katsu which was very good.\\\\n\\\\nMy son raved about the Cali roll he took that down in about 3 minutes flat.  My wife went with the beef teryiaki and the meat was actually cooked medium rare.  I was shocked.  It was good and flavorful.  So that part was for the non-Japanese eaters you may have.\\\\n\\\\nI decided to have a feast.  I tried their Blue Fin Tuna, which was spectacular, had some great yellow tail, some of the freshest I have had since moving here.  Followed that up with my all time favorite sushi which is spicy scallops.  And they were spicy and tasty.  Loved them.  I also tried the Salmon Dynamite roll.  While something I may not order again, it was very good and had different flavor.  While eating my wife was reading review and said the fun is trying something new like Hamachi Kama.  Now this is one of my all time favorite dishes and asked for an order.  The watiress was like, you like Hamachi Kama and smiled?  Within a few minutes the owner brought it over with an even bigger smile.  It was great.\\\\n\\\\nJust a quick stepback, as we walked in my youngest said dad do you like your birthday restaurant.  I laughed and said yes.  Well a waitress must of heard that and after finishing dinner the owner proudly brought over a dessert proclaimed happy bday and on the house.  Very very nice touch.\\\\n\\\\nI will be back..again..and again...and again...Best Sushi I have found in the South Valley BY FAR!',\n",
       "  'rating': 4,\n",
       "  'explanation': '{\"stars\": 5, \"explanation\": \"The reviewer praises the doctor extensively, highlighting multiple positive attributes and struggles to find any complaints.\"}'},\n",
       " {'review_text': \"I have been coming here for years. There's one place in particular positively nutz on isle H-27. I used to not miss if I was here. Then I starts to notice that his chocolate sits there one week to another and the guy the runs it his name is mike he is not the cleanest person there. His booth is infested with cockroaches I saw 2 of them in his display case over his chocolates. One person warned him and I saw him kill it with his bare hands then without washing his hands he rearrange the chocolate. DO NOT EAT ANYTHING HERE  unless you want to get sick. I'm going to call the health district Monday  .....\",\n",
       "  'rating': 1,\n",
       "  'explanation': '{\"stars\": 5, \"explanation\": \"The reviewer praises the doctor extensively, highlighting multiple positive attributes and struggles to find any complaints.\"}'},\n",
       " {'review_text': '9 months ago:\\\\nVery clean.  \\\\nGreat food. \\\\nBest pancakes ever!  \\\\nFast and friendly service!  \\\\nAwesome!\\\\n\\\\n6 weeks ago:  \\\\nStill clean. \\\\nPortions shrunk. \\\\nModerately friendly. \\\\nA little slow. \\\\n\\\\n3 days ago:\\\\nRestrooms dirty. \\\\nSat at the diner bar and had at least 11 employees walk past on 10 minutes. \\\\nI was the only one at the bar. \\\\nLeft after 10 minutes with no acknowledgment of my presence. \\\\n\\\\n\\\\nWas there a change in management or does there need to be a change in management?',\n",
       "  'rating': 1,\n",
       "  'explanation': '{\"stars\": 5, \"explanation\": \"The reviewer praises the doctor extensively, highlighting multiple positive attributes and struggles to find any complaints.\"}'},\n",
       " {'review_text': \"Go to They Yard House.... For Beer and Food....\\\\n\\\\nYes - The Yard House is chain but their food is 100000x.  The menu actually sounds more appealing and the food actually is better..\\\\n\\\\nI was looking forward to going to 4 Peaks after hearing great things.  I certainly enjoy a nice cold beer.  (Which they don't have at 4 Peaks - b/c apparently room temperature and slightly colder are the perfect temps to bring out the flavor?!?!  - if thats the case - then why was the frosty mug created?)\\\\n\\\\nOur water was great - straight up honest about what he likes and didn't in regard to the menu - which I really appreciate.\\\\n\\\\nOverall - unimpressed....\",\n",
       "  'rating': 2,\n",
       "  'explanation': '{\"stars\": 5, \"explanation\": \"The reviewer praises the doctor extensively, highlighting multiple positive attributes and struggles to find any complaints.\"}'},\n",
       " {'review_text': \"Trying sushi in Vegas is seriously like throwing your money down the drain. The portions are always small and a roll will cost you about 2-4 bucks for one piece of a roll. I don't know what is all the hype about Sushisamba. There is one in Chicago and New York I believe, but I don't know why it's supposed to be so good or cool. \\\\n\\\\nOne of the roll my fiance and I got had charboiled steak on it, which made the whole roll taste like charcoal. I also wasn't impressed with their special sauces like key lime mayo on their other rolls, but I guess you need some kind of gimmick to make your products special. The overall look of the rolls were the best I've seen either. Come on, Sushisamba. You have to step it up. \\\\n\\\\nThe rolls were fine. I would be happy with them at another sushi place for a decent price, but since it was overpriced and small in size, I will never been happy with this place.\",\n",
       "  'rating': 2,\n",
       "  'explanation': '{\"stars\": 5, \"explanation\": \"The reviewer praises the doctor extensively, highlighting multiple positive attributes and struggles to find any complaints.\"}'},\n",
       " {'review_text': \"I called Affordable German today to get some info. I work on my own car typically, but I was having a coolant leak and asked these guys for advice. They gave me expert advice and told me what was needed, and quoted me for the service if I couldn't handle it. Thanks guys!!\",\n",
       "  'rating': 5,\n",
       "  'explanation': '{\"stars\": 5, \"explanation\": \"The reviewer praises the doctor extensively, highlighting multiple positive attributes and struggles to find any complaints.\"}'},\n",
       " {'review_text': \"Customer service was top notch! We wanted half of our sandwiches to go and they kept it in the oven so it would be warm while we ate the other half in the store. The chicken teriyaki sandwich tastes just like French onion soup. I've never had such a unique sub!\",\n",
       "  'rating': 5,\n",
       "  'explanation': '{\"stars\": 5, \"explanation\": \"The reviewer praises the doctor extensively, highlighting multiple positive attributes and struggles to find any complaints.\"}'},\n",
       " {'review_text': \"Decided to give Three Amigos a try after a certain amount of recommendations and reviews about the place. I visited on a Tuesday night with my friend and surprised at how small the place is! It's a true hole-in-the-wall Mexican restaurant.\\\\n\\\\nWe ordered the (small) house margarita and I found it to be a bit bland. I didn't get much flavor or 'oomph' from the drink. I've definitely had better margaritas. \\\\nWe were given the standard complimentary salsa and chips and I ordered a small portion of the guacamole. The salsa? VERY good and the chips were slightly seasoned which provided a nice flavor. The guac was good, it tasted very fresh but nothing else that was of note to remark about.\\\\n\\\\nI ordered the enchiladas de horno (chicken enchiladas with cheese, onions, cilantro and avocado) which came with re-fried beans and rice. I loved the portion size of the enchiladas. They weren't your standard oversized portion found at other Mexican spots. My biggest problem with the meal was that parts of the rice was overcooked. Like, crunchy bits of rice which is a big downgrade for me.\\\\n\\\\nI've had better Mexican food but I'd definitely give Three Amigos another try!\",\n",
       "  'rating': 3,\n",
       "  'explanation': '{\"stars\": 5, \"explanation\": \"The reviewer praises the doctor extensively, highlighting multiple positive attributes and struggles to find any complaints.\"}'},\n",
       " {'review_text': \"I liked the place, but thought it was a bit over priced. We ordered the king BBQ and it was more than plenty and the meat was super tender and pretty good quality. Wish they would give out fresh lettuce leaves. The spicy bean soup that came with it was awesome. The cold rice tea had a great flavor, but way too sweet. \\\\nAccording to what I heard Korean waitresses work more like a team and they believe that for them to keep interrupting you during your meal is rude, maybe that's why some find the service stand-offish.\\\\n\\\\nMy husband hated the place, he thought it was way overpriced for the food and service :(\",\n",
       "  'rating': 3,\n",
       "  'explanation': '{\"stars\": 5, \"explanation\": \"The reviewer praises the doctor extensively, highlighting multiple positive attributes and struggles to find any complaints.\"}'}]"
      ]
     },
     "execution_count": 16,
     "metadata": {},
     "output_type": "execute_result"
    }
   ],
   "source": [
    "few_shot_examples"
   ]
  },
  {
   "cell_type": "code",
   "execution_count": 17,
   "id": "50c6a445",
   "metadata": {},
   "outputs": [],
   "source": [
    "system_prompt = SYSTEM_PROMPT + \"\\nHere are the examples of reviews and their ratings: {examples}\""
   ]
  },
  {
   "cell_type": "code",
   "execution_count": 18,
   "id": "9a667a2f",
   "metadata": {},
   "outputs": [],
   "source": [
    "system_prompt = system_prompt.format_map({'examples': \"\\n\\n\".join([f\"- Review: \\\"\\\"\\\"{example['review_text']}\\\"\\\"\\\"\\nRating: {example['rating']}\\nExplanation: {example['explanation']}\" for example in few_shot_examples])})\n",
    "few_shot_example = ZERO_SHOT_USER_TMPL.format_map({'review_text': first_review['text'].item()})"
   ]
  },
  {
   "cell_type": "code",
   "execution_count": 19,
   "id": "bd4ad4ff",
   "metadata": {},
   "outputs": [
    {
     "data": {
      "text/plain": [
       "'Classify the following review:\\n\"\"\"dr. goldberg offers everything i look for in a general practitioner.  he\\'s nice and easy to talk to without being patronizing; he\\'s always on time in seeing his patients; he\\'s affiliated with a top-notch hospital (nyu) which my parents have explained to me is very important in case something happens and you need surgery; and you can get referrals to see specialists without having to see him first.  really, what more do you need?  i\\'m sitting here trying to think of any complaints i have about him, but i\\'m really drawing a blank.\"\"\"'"
      ]
     },
     "execution_count": 19,
     "metadata": {},
     "output_type": "execute_result"
    }
   ],
   "source": [
    "few_shot_example"
   ]
  },
  {
   "cell_type": "code",
   "execution_count": 20,
   "id": "e74de3c6",
   "metadata": {},
   "outputs": [],
   "source": [
    "response = client.complete(\n",
    "    messages=[\n",
    "        SystemMessage(content=system_prompt),\n",
    "        UserMessage(content=few_shot_example),\n",
    "    ],\n",
    "    max_tokens=128,\n",
    "    temperature=0.1,\n",
    "    top_p=0.95,\n",
    "    model=model_name,\n",
    "    response_format=\"json_object\"\n",
    ")"
   ]
  },
  {
   "cell_type": "code",
   "execution_count": 21,
   "id": "8d775814",
   "metadata": {},
   "outputs": [
    {
     "data": {
      "text/plain": [
       "{'stars': 5,\n",
       " 'explanation': 'The reviewer praises the doctor extensively, highlighting multiple positive attributes and struggles to find any complaints.'}"
      ]
     },
     "execution_count": 21,
     "metadata": {},
     "output_type": "execute_result"
    }
   ],
   "source": [
    "output = response.choices[0].message.content\n",
    "json.loads(output)"
   ]
  },
  {
   "cell_type": "code",
   "execution_count": null,
   "id": "7cfb1525",
   "metadata": {},
   "outputs": [],
   "source": []
  }
 ],
 "metadata": {
  "kernelspec": {
   "display_name": ".venv",
   "language": "python",
   "name": "python3"
  },
  "language_info": {
   "codemirror_mode": {
    "name": "ipython",
    "version": 3
   },
   "file_extension": ".py",
   "mimetype": "text/x-python",
   "name": "python",
   "nbconvert_exporter": "python",
   "pygments_lexer": "ipython3",
   "version": "3.13.5"
  }
 },
 "nbformat": 4,
 "nbformat_minor": 5
}
