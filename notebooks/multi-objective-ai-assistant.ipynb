{
 "cells": [
  {
   "cell_type": "code",
   "execution_count": 1,
   "id": "84ee0995",
   "metadata": {},
   "outputs": [
    {
     "data": {
      "text/plain": [
       "True"
      ]
     },
     "execution_count": 1,
     "metadata": {},
     "output_type": "execute_result"
    }
   ],
   "source": [
    "from dotenv import load_dotenv\n",
    "load_dotenv()"
   ]
  },
  {
   "cell_type": "code",
   "execution_count": 104,
   "id": "68d559fb",
   "metadata": {},
   "outputs": [],
   "source": [
    "import time\n",
    "import json, time, concurrent.futures as cf\n",
    "import polars as pl\n",
    "from tqdm import tqdm\n",
    "\n",
    "from azure.ai.inference import ChatCompletionsClient\n",
    "from azure.ai.inference.models import SystemMessage, UserMessage, ChatCompletions\n",
    "from azure.core.credentials import AzureKeyCredential"
   ]
  },
  {
   "cell_type": "code",
   "execution_count": 24,
   "id": "459d38d0",
   "metadata": {},
   "outputs": [],
   "source": [
    "df = pl.read_parquet('../data/test_yelp_review.parquet')\n",
    "working_df = df.group_by('label').agg(pl.all().sample(n=1000, with_replacement=False))\n",
    "df_obj = {\"label\": [], \"text\": []}\n",
    "few_shot_examples = \"\"\n",
    "for row in working_df.iter_rows():\n",
    "    for text in row[1]:\n",
    "        df_obj[\"label\"].append(row[0] + 1)\n",
    "        df_obj[\"text\"].append(text)\n",
    "df = pl.DataFrame(df_obj)\n",
    "df = df.with_row_index(name=\"row_id\")"
   ]
  },
  {
   "cell_type": "code",
   "execution_count": 25,
   "id": "e9ed1063",
   "metadata": {},
   "outputs": [
    {
     "data": {
      "text/plain": [
       "(5000, 3)"
      ]
     },
     "execution_count": 25,
     "metadata": {},
     "output_type": "execute_result"
    }
   ],
   "source": [
    "df.shape"
   ]
  },
  {
   "cell_type": "code",
   "execution_count": 26,
   "id": "fa1a02d5",
   "metadata": {},
   "outputs": [
    {
     "data": {
      "text/html": [
       "<div><style>\n",
       ".dataframe > thead > tr,\n",
       ".dataframe > tbody > tr {\n",
       "  text-align: right;\n",
       "  white-space: pre-wrap;\n",
       "}\n",
       "</style>\n",
       "<small>shape: (5, 3)</small><table border=\"1\" class=\"dataframe\"><thead><tr><th>row_id</th><th>label</th><th>text</th></tr><tr><td>u32</td><td>i64</td><td>str</td></tr></thead><tbody><tr><td>0</td><td>4</td><td>&quot;The name is as good as the foo…</td></tr><tr><td>1</td><td>4</td><td>&quot;I travel to Las Vegas monthly …</td></tr><tr><td>2</td><td>4</td><td>&quot;My mate and I just checked out…</td></tr><tr><td>3</td><td>4</td><td>&quot;The food is excellent. I had t…</td></tr><tr><td>4</td><td>4</td><td>&quot;these guys have really stepped…</td></tr></tbody></table></div>"
      ],
      "text/plain": [
       "shape: (5, 3)\n",
       "┌────────┬───────┬─────────────────────────────────┐\n",
       "│ row_id ┆ label ┆ text                            │\n",
       "│ ---    ┆ ---   ┆ ---                             │\n",
       "│ u32    ┆ i64   ┆ str                             │\n",
       "╞════════╪═══════╪═════════════════════════════════╡\n",
       "│ 0      ┆ 4     ┆ The name is as good as the foo… │\n",
       "│ 1      ┆ 4     ┆ I travel to Las Vegas monthly … │\n",
       "│ 2      ┆ 4     ┆ My mate and I just checked out… │\n",
       "│ 3      ┆ 4     ┆ The food is excellent. I had t… │\n",
       "│ 4      ┆ 4     ┆ these guys have really stepped… │\n",
       "└────────┴───────┴─────────────────────────────────┘"
      ]
     },
     "execution_count": 26,
     "metadata": {},
     "output_type": "execute_result"
    }
   ],
   "source": [
    "df.head()"
   ]
  },
  {
   "cell_type": "code",
   "execution_count": 27,
   "id": "38ed3727",
   "metadata": {},
   "outputs": [],
   "source": [
    "# For Serverless API or Managed Compute endpoints\n",
    "from os import getenv\n",
    "\n",
    "\n",
    "client = ChatCompletionsClient(\n",
    "    endpoint=\"https://portfolio-resource.services.ai.azure.com/models\",\n",
    "    credential=AzureKeyCredential(getenv(\"AZURE_AI_INFERENCE_KEY\")),\n",
    "    api_version=\"2024-05-01-preview\"\n",
    ")\n",
    "model_name = \"llama-31_8b\""
   ]
  },
  {
   "cell_type": "code",
   "execution_count": 59,
   "id": "b7289ec1",
   "metadata": {},
   "outputs": [],
   "source": [
    "DEFAULT_ERROR_MESSAGE = \"I am facing issue with performing the task. Kindly try in some time.\"\n",
    "def call_llm(messages, response_format: str = \"text\"):\n",
    "    max_retries = 3\n",
    "    for try_i in range(max_retries):\n",
    "        response = None\n",
    "        try:\n",
    "            response: ChatCompletions = client.complete(\n",
    "                messages=messages,\n",
    "                temperature=0.1,\n",
    "                top_p=0.95,\n",
    "                model=model_name,\n",
    "                max_tokens=1024,\n",
    "                response_format=response_format\n",
    "            )\n",
    "            output = response.choices[0].message.content\n",
    "            return output\n",
    "        except Exception as ex:\n",
    "            print(str(ex))\n",
    "            try_i += 1\n",
    "            if try_i == max_retries:\n",
    "                return DEFAULT_ERROR_MESSAGE\n",
    "                \n"
   ]
  },
  {
   "cell_type": "code",
   "execution_count": 60,
   "id": "0798bb09",
   "metadata": {},
   "outputs": [],
   "source": [
    "COMPLAINT_COMPLIMENT_EXTRATOR_PROMPT = \"\"\"You are an expert in extracting complaints/compliments from Yelp reviews.\n",
    "Extract these in the form of JSON object with key as complaint/complement and the value as one or more complain/complement.\n",
    "\n",
    "Response format:\n",
    "{{\n",
    "    \"complaint\": [\"complaint1\", \"complaint2\", ...],\n",
    "    \"compliment\": [\"compliment1\", \"compliment2\", ...]\n",
    "}}\n",
    "\"\"\"\n",
    "\n",
    "COMPLAINT_COMPLIMENT_JUDGE_PROMPT = \"\"\"You are an evaluator checking whether an assistant correctly extracted the main complaint or compliment from a Yelp review.\n",
    "Your Task:\n",
    "Evaluate how faithful the KEY_POINT is to the REVIEW content.  Justification is a must for your response.\n",
    "\n",
    "Scoring (0-2):\n",
    "- 2 = Faithful and central: captures the main complaint or compliment accurately and succinctly.\n",
    "- 1 = Partially faithful: somewhat related but incomplete, vague, or misses the main issue/praise.\n",
    "- 0 = Incorrect/off-topic: does not match the content or invents something not in the review.\n",
    "\n",
    "Output ONLY valid JSON:\n",
    "{\n",
    "  \"faithfulness\": 0|1|2,\n",
    "  \"justification\": \"<one concise sentence explaining score>\"\n",
    "}\n",
    "\"\"\""
   ]
  },
  {
   "cell_type": "code",
   "execution_count": 61,
   "id": "1f51f7f6",
   "metadata": {},
   "outputs": [],
   "source": [
    "def extract_key_points(review_text: str):\n",
    "    key_point_extractor_messages = [\n",
    "        SystemMessage(content=COMPLAINT_COMPLIMENT_EXTRATOR_PROMPT),\n",
    "        UserMessage(content=f\"\"\"Review:\n",
    "\\\"\\\"\\\"{review_text}\\\"\\\"\\\"\"\"\")\n",
    "    ]\n",
    "    key_point_extractor_response = call_llm(messages=key_point_extractor_messages, response_format=\"json_object\")\n",
    "\n",
    "    judge_messages = [\n",
    "        SystemMessage(content=COMPLAINT_COMPLIMENT_JUDGE_PROMPT),\n",
    "        UserMessage(content=f\"\"\"Review:\n",
    "\\\"\\\"\\\"{review_text}\\\"\\\"\\\"\\n\n",
    "Key Point:\n",
    "\\\"\\\"\\\"{key_point_extractor_response}\\\"\\\"\\\"\"\"\")\n",
    "    ]\n",
    "    judge_response = call_llm(messages=judge_messages, response_format=\"json_object\")\n",
    "    judge_response = json.loads(judge_response)\n",
    "    key_points = json.loads(key_point_extractor_response)\n",
    "    return {\n",
    "        \"complaint\": key_points.get(\"complaint\", \"\"),\n",
    "        \"compliment\": key_points.get(\"compliment\", \"\"),\n",
    "        \"faithfulness\": judge_response.get(\"faithfulness\", 0),\n",
    "        \"key_point_justification\": judge_response.get(\"justification\", \"\")\n",
    "    }\n",
    "    "
   ]
  },
  {
   "cell_type": "code",
   "execution_count": 98,
   "id": "335b4986",
   "metadata": {},
   "outputs": [],
   "source": [
    "STAR_PROMPT = \"\"\"You are a review expert from Yelp reviews.\n",
    "Your task:\n",
    "Rate the review using the following rubric.\n",
    "\n",
    "Rubric for rating:\n",
    "1 = very negative, would not return\n",
    "2 = negative with some redeeming detail\n",
    "3 = mixed/neutral\n",
    "4 = positive with minor issues\n",
    "5 = very positive, enthusiastic\n",
    "\n",
    "Response with only the rating int integer. Do not provide justification\n",
    "\"\"\""
   ]
  },
  {
   "cell_type": "code",
   "execution_count": 99,
   "id": "3a9d87fe",
   "metadata": {},
   "outputs": [],
   "source": [
    "def get_rating(review_text: str):\n",
    "    rating_messages = [\n",
    "        SystemMessage(content=STAR_PROMPT),\n",
    "        UserMessage(content=f\"\"\"Review:\n",
    "\\\"\\\"\\\"{review_text}\\\"\\\"\\\"\"\"\")\n",
    "    ]\n",
    "    rating_response = call_llm(messages=rating_messages)\n",
    "    if rating_response == DEFAULT_ERROR_MESSAGE:\n",
    "        return { \"rating\": 0 }\n",
    "    return { \"rating\": rating_response }\n",
    "    "
   ]
  },
  {
   "cell_type": "code",
   "execution_count": 100,
   "id": "5c27a5aa",
   "metadata": {},
   "outputs": [],
   "source": [
    "BUSINESS_RESPONSE_PROMPT = \"\"\"You are you an employee of the business whose reviews have been posted on yelp.\n",
    "You Task:\n",
    "Revert back to the customer/user with a polite response addressing the complaint or compliment.\n",
    "\n",
    "Responsd with only the response. Do not add/provide any justification.\n",
    "\"\"\"\n",
    "\n",
    "BUSINESS_RESPONSE_JUDGE_PROMPT = \"\"\"You are an evaluator checking whether a business reply to a Yelp review is appropriate.\n",
    "Your Task:\n",
    "Evaluate the quality of the reply on two dimensions. Justification is a must for your response.\n",
    "\n",
    "Scoring (each 0-2):\n",
    "- \"tone\":\n",
    "   2 = Polite, empathetic, brand-safe\n",
    "   1 = Neutral but acceptable\n",
    "   0 = Rude, dismissive, or inappropriate\n",
    "- \"actionability\":\n",
    "   2 = Provides a clear next step, remedy, or thanks\n",
    "   1 = Minimal acknowledgment but little concrete action\n",
    "   0 = No action or irrelevant response\n",
    "\n",
    "Output ONLY valid JSON:\n",
    "{\n",
    "  \"tone\": 0|1|2,\n",
    "  \"actionability\": 0|1|2,\n",
    "  \"justification\": \"<one concise sentence explaining scores>\"\n",
    "}\n",
    "\"\"\""
   ]
  },
  {
   "cell_type": "code",
   "execution_count": 101,
   "id": "5d6b8835",
   "metadata": {},
   "outputs": [],
   "source": [
    "def provide_business_response(review_text: str):\n",
    "    business_response_messages = [\n",
    "        SystemMessage(content=BUSINESS_RESPONSE_PROMPT),\n",
    "        UserMessage(content=f\"\"\"Review:\n",
    "\\\"\\\"\\\"{review_text}\\\"\\\"\\\"\"\"\")\n",
    "    ]\n",
    "    business_response = call_llm(messages=business_response_messages)\n",
    "\n",
    "    judge_messages = [\n",
    "        SystemMessage(content=BUSINESS_RESPONSE_JUDGE_PROMPT),\n",
    "        UserMessage(content=f\"\"\"Review:\n",
    "\\\"\\\"\\\"{review_text}\\\"\\\"\\\"\\n\n",
    "Business Reply:\n",
    "\\\"\\\"\\\"{business_response}\\\"\\\"\\\"\"\"\")\n",
    "    ]\n",
    "    judge_response = call_llm(messages=judge_messages, response_format=\"json_object\")\n",
    "    judge_response = json.loads(judge_response)\n",
    "\n",
    "    return {\n",
    "        \"business_response\": business_response,\n",
    "        \"tone\": judge_response.get(\"tone\", 0),\n",
    "        \"actionability\": judge_response.get(\"actionability\", 0),\n",
    "        \"business_response_justification\": judge_response.get(\"justification\", \"\")\n",
    "    }\n",
    "    "
   ]
  },
  {
   "cell_type": "code",
   "execution_count": 102,
   "id": "2d92fe03",
   "metadata": {},
   "outputs": [],
   "source": [
    "def process_row(row):\n",
    "    \"\"\"Runs one record end-to-end; returns dict. Designed for ThreadPoolExecutor.\"\"\"\n",
    "    start_time = time.time()\n",
    "    row_id = row[\"row_id\"]\n",
    "    review = row[\"text\"]\n",
    "\n",
    "    rating_response = get_rating(review)\n",
    "    key_points = extract_key_points(review)\n",
    "    business_response = provide_business_response(review)\n",
    "\n",
    "    end_time = time.time()\n",
    "    return {\n",
    "        \"row_id\": row_id,\n",
    "        **rating_response,\n",
    "        **business_response,\n",
    "        **key_points,\n",
    "        \"latency_sec\": round(end_time - start_time, 3),\n",
    "    }"
   ]
  },
  {
   "cell_type": "code",
   "execution_count": 82,
   "id": "9afaff85",
   "metadata": {},
   "outputs": [
    {
     "name": "stderr",
     "output_type": "stream",
     "text": [
      "Processing:  23%|██▎       | 1155/5000 [06:01<4:55:11,  4.61s/it]"
     ]
    },
    {
     "name": "stdout",
     "output_type": "stream",
     "text": [
      "('Connection aborted.', ConnectionResetError(54, 'Connection reset by peer'))\n"
     ]
    },
    {
     "name": "stderr",
     "output_type": "stream",
     "text": [
      "Processing:  34%|███▎      | 1683/5000 [08:45<11:38,  4.75it/s]  "
     ]
    },
    {
     "name": "stdout",
     "output_type": "stream",
     "text": [
      "('Connection aborted.', ConnectionResetError(54, 'Connection reset by peer'))\n"
     ]
    },
    {
     "name": "stderr",
     "output_type": "stream",
     "text": [
      "Processing: 100%|██████████| 5000/5000 [30:19<00:00,  2.75it/s]  \n"
     ]
    }
   ],
   "source": [
    "MAX_WORKERS = 16\n",
    "\n",
    "all_response = []\n",
    "rows = list(df.iter_rows(named=True))  # materialize so we can index safely\n",
    "\n",
    "with cf.ThreadPoolExecutor(max_workers=MAX_WORKERS) as ex:\n",
    "    # Submit all tasks at once\n",
    "    futures = [ex.submit(process_row, row) for row in rows]\n",
    "\n",
    "    # Iterate as they complete, but keep results in original order afterwards\n",
    "    results_by_index = {}\n",
    "    for i, fut in enumerate(tqdm(cf.as_completed(futures), total=len(futures), desc=\"Processing\")):\n",
    "        try:\n",
    "            res = fut.result()\n",
    "        except Exception as e:\n",
    "            # Ensure we don't crash the whole run; record the error\n",
    "            res = {\"row_id\": rows[i][\"row_id\"], \"error\": str(e)}\n",
    "        results_by_index[i] = res\n",
    "\n",
    "# Rebuild in original order\n",
    "all_response = [results_by_index[i] for i in range(len(rows))]"
   ]
  },
  {
   "cell_type": "code",
   "execution_count": 86,
   "id": "044b270d",
   "metadata": {},
   "outputs": [],
   "source": [
    "out_df = pl.DataFrame(all_response, strict=False)"
   ]
  },
  {
   "cell_type": "code",
   "execution_count": 87,
   "id": "d1a0a308",
   "metadata": {},
   "outputs": [
    {
     "data": {
      "text/html": [
       "<div><style>\n",
       ".dataframe > thead > tr,\n",
       ".dataframe > tbody > tr {\n",
       "  text-align: right;\n",
       "  white-space: pre-wrap;\n",
       "}\n",
       "</style>\n",
       "<small>shape: (5, 11)</small><table border=\"1\" class=\"dataframe\"><thead><tr><th>row_id</th><th>rating</th><th>business_response</th><th>tone</th><th>actionability</th><th>business_response_justification</th><th>complaint</th><th>compliment</th><th>faithfulness</th><th>key_point_justification</th><th>latency_sec</th></tr><tr><td>i64</td><td>str</td><td>str</td><td>i64</td><td>i64</td><td>str</td><td>list[str]</td><td>list[str]</td><td>i64</td><td>str</td><td>f64</td></tr></thead><tbody><tr><td>14</td><td>&quot;5&quot;</td><td>&quot;&quot;Dear valued guest, we&#x27;re thri…</td><td>2</td><td>2</td><td>&quot;The business reply is polite, …</td><td>[]</td><td>[&quot;beautiful&quot;, &quot;beautiful canals&quot;, … &quot;vanity area made for comfort and convenience&quot;]</td><td>2</td><td>&quot;The key point accurately and s…</td><td>3.372</td></tr><tr><td>9</td><td>&quot;4&quot;</td><td>&quot;&quot;Dear valued customer, we&#x27;re t…</td><td>2</td><td>2</td><td>&quot;The business reply is polite, …</td><td>[&quot;atrocious lines and checkout&quot;, &quot;unorganized and picked through shelves and racks&quot;]</td><td>[&quot;ten times better than before&quot;, &quot;reorganized and clean checkout lines&quot;, … &quot;aesthetically pleasing displays&quot;]</td><td>2</td><td>&quot;The key point accurately captu…</td><td>3.78</td></tr><tr><td>6</td><td>&quot;4&quot;</td><td>&quot;&quot;Dear valued customer, thank y…</td><td>2</td><td>2</td><td>&quot;The business reply is polite, …</td><td>[&quot;Atmosphere was very noisy&quot;]</td><td>[&quot;hamburgers were very good&quot;, &quot;Service was very good&quot;]</td><td>2</td><td>&quot;The key point accurately captu…</td><td>3.787</td></tr><tr><td>13</td><td>&quot;5&quot;</td><td>&quot;&quot;Dear valued guest, \n",
       "\n",
       "We&#x27;re th…</td><td>2</td><td>2</td><td>&quot;The business reply is polite, …</td><td>[]</td><td>[&quot;good for groups&quot;, &quot;friendly waitress&quot;, … &quot;Foodie Fight&quot;]</td><td>2</td><td>&quot;The key point accurately and s…</td><td>3.782</td></tr><tr><td>5</td><td>&quot;4&quot;</td><td>&quot;&quot;Dear valued customer, thank y…</td><td>2</td><td>2</td><td>&quot;The business reply is polite, …</td><td>[&quot;consistancy in the sauces is not head on&quot;]</td><td>[&quot;good selection for us vegitarians&quot;, &quot;deliver on time&quot;, &quot;very courteous&quot;]</td><td>1</td><td>&quot;The key point partially captur…</td><td>3.906</td></tr></tbody></table></div>"
      ],
      "text/plain": [
       "shape: (5, 11)\n",
       "┌────────┬────────┬─────────────┬──────┬───┬─────────────┬─────────────┬─────────────┬─────────────┐\n",
       "│ row_id ┆ rating ┆ business_re ┆ tone ┆ … ┆ compliment  ┆ faithfulnes ┆ key_point_j ┆ latency_sec │\n",
       "│ ---    ┆ ---    ┆ sponse      ┆ ---  ┆   ┆ ---         ┆ s           ┆ ustificatio ┆ ---         │\n",
       "│ i64    ┆ str    ┆ ---         ┆ i64  ┆   ┆ list[str]   ┆ ---         ┆ n           ┆ f64         │\n",
       "│        ┆        ┆ str         ┆      ┆   ┆             ┆ i64         ┆ ---         ┆             │\n",
       "│        ┆        ┆             ┆      ┆   ┆             ┆             ┆ str         ┆             │\n",
       "╞════════╪════════╪═════════════╪══════╪═══╪═════════════╪═════════════╪═════════════╪═════════════╡\n",
       "│ 14     ┆ 5      ┆ \"Dear       ┆ 2    ┆ … ┆ [\"beautiful ┆ 2           ┆ The key     ┆ 3.372       │\n",
       "│        ┆        ┆ valued      ┆      ┆   ┆ \",          ┆             ┆ point       ┆             │\n",
       "│        ┆        ┆ guest,      ┆      ┆   ┆ \"beautiful  ┆             ┆ accurately  ┆             │\n",
       "│        ┆        ┆ we're thri… ┆      ┆   ┆ canal…      ┆             ┆ and s…      ┆             │\n",
       "│ 9      ┆ 4      ┆ \"Dear       ┆ 2    ┆ … ┆ [\"ten times ┆ 2           ┆ The key     ┆ 3.78        │\n",
       "│        ┆        ┆ valued      ┆      ┆   ┆ better than ┆             ┆ point       ┆             │\n",
       "│        ┆        ┆ customer,   ┆      ┆   ┆ before…     ┆             ┆ accurately  ┆             │\n",
       "│        ┆        ┆ we're t…    ┆      ┆   ┆             ┆             ┆ captu…      ┆             │\n",
       "│ 6      ┆ 4      ┆ \"Dear       ┆ 2    ┆ … ┆ [\"hamburger ┆ 2           ┆ The key     ┆ 3.787       │\n",
       "│        ┆        ┆ valued      ┆      ┆   ┆ s were very ┆             ┆ point       ┆             │\n",
       "│        ┆        ┆ customer,   ┆      ┆   ┆ good\", …    ┆             ┆ accurately  ┆             │\n",
       "│        ┆        ┆ thank y…    ┆      ┆   ┆             ┆             ┆ captu…      ┆             │\n",
       "│ 13     ┆ 5      ┆ \"Dear       ┆ 2    ┆ … ┆ [\"good for  ┆ 2           ┆ The key     ┆ 3.782       │\n",
       "│        ┆        ┆ valued      ┆      ┆   ┆ groups\",    ┆             ┆ point       ┆             │\n",
       "│        ┆        ┆ guest,      ┆      ┆   ┆ \"friendly … ┆             ┆ accurately  ┆             │\n",
       "│        ┆        ┆             ┆      ┆   ┆             ┆             ┆ and s…      ┆             │\n",
       "│        ┆        ┆ We're th…   ┆      ┆   ┆             ┆             ┆             ┆             │\n",
       "│ 5      ┆ 4      ┆ \"Dear       ┆ 2    ┆ … ┆ [\"good      ┆ 1           ┆ The key     ┆ 3.906       │\n",
       "│        ┆        ┆ valued      ┆      ┆   ┆ selection   ┆             ┆ point       ┆             │\n",
       "│        ┆        ┆ customer,   ┆      ┆   ┆ for us      ┆             ┆ partially   ┆             │\n",
       "│        ┆        ┆ thank y…    ┆      ┆   ┆ vegita…     ┆             ┆ captur…     ┆             │\n",
       "└────────┴────────┴─────────────┴──────┴───┴─────────────┴─────────────┴─────────────┴─────────────┘"
      ]
     },
     "execution_count": 87,
     "metadata": {},
     "output_type": "execute_result"
    }
   ],
   "source": [
    "out_df.head()"
   ]
  },
  {
   "cell_type": "code",
   "execution_count": 85,
   "id": "311f3f95",
   "metadata": {},
   "outputs": [
    {
     "data": {
      "text/html": [
       "<div><style>\n",
       ".dataframe > thead > tr,\n",
       ".dataframe > tbody > tr {\n",
       "  text-align: right;\n",
       "  white-space: pre-wrap;\n",
       "}\n",
       "</style>\n",
       "<small>shape: (5, 13)</small><table border=\"1\" class=\"dataframe\"><thead><tr><th>row_id</th><th>label</th><th>text</th><th>rating</th><th>business_response</th><th>tone</th><th>actionability</th><th>business_response_justification</th><th>complaint</th><th>compliment</th><th>faithfulness</th><th>key_point_justification</th><th>latency_sec</th></tr><tr><td>u32</td><td>i64</td><td>str</td><td>str</td><td>str</td><td>i64</td><td>i64</td><td>str</td><td>list[str]</td><td>list[str]</td><td>i64</td><td>str</td><td>f64</td></tr></thead><tbody><tr><td>0</td><td>4</td><td>&quot;The name is as good as the foo…</td><td>&quot;4&quot;</td><td>&quot;&quot;Thank you so much for your ki…</td><td>2</td><td>2</td><td>&quot;The business reply is polite, …</td><td>[]</td><td>[&quot;The name is as good as the food&quot;, &quot;worth a stop&quot;, … &quot;a mom and pop Asian food place with all or your favorite taste liker teriyaki and orange chicken&quot;]</td><td>0</td><td>&quot;The key point includes multipl…</td><td>4.136</td></tr><tr><td>1</td><td>4</td><td>&quot;I travel to Las Vegas monthly …</td><td>&quot;5&quot;</td><td>&quot;&quot;Dear valued customer, we&#x27;re t…</td><td>2</td><td>2</td><td>&quot;The business reply is polite, …</td><td>[]</td><td>[&quot;Food was great&quot;, &quot;Was not sure what to expect ... Very interesting&quot;, … &quot;The best places to eat are away from the strip and this is one of those places&quot;]</td><td>2</td><td>&quot;The KEY_POINT accurately captu…</td><td>3.911</td></tr><tr><td>2</td><td>4</td><td>&quot;My mate and I just checked out…</td><td>&quot;4&quot;</td><td>&quot;&quot;Dear valued customer, \n",
       "\n",
       "Thank…</td><td>2</td><td>2</td><td>&quot;The business reply is polite, …</td><td>[&quot;difficulty finding the location&quot;, &quot;poor signage&quot;, … &quot;overpriced Cinnamon Roasted Almonds ($9.00)&quot;]</td><td>[&quot;great food&quot;, &quot;entertainment&quot;, … &quot;colorful amusement rides&quot;]</td><td>2</td><td>&quot;The key point accurately captu…</td><td>5.404</td></tr><tr><td>3</td><td>4</td><td>&quot;The food is excellent. I had t…</td><td>&quot;4&quot;</td><td>&quot;&quot;Dear valued customer, \n",
       "\n",
       "Thank…</td><td>2</td><td>2</td><td>&quot;The business reply is polite, …</td><td>[&quot;wait for table can be longer at peak hours&quot;, &quot;wait for refills&quot;, … &quot;biscuit could have used some butter or jelly&quot;]</td><td>[&quot;food is excellent&quot;, &quot;chicken and waffles were huge&quot;, … &quot;server brought drinks right away&quot;]</td><td>1</td><td>&quot;The key point partially captur…</td><td>5.2</td></tr><tr><td>4</td><td>4</td><td>&quot;these guys have really stepped…</td><td>&quot;4&quot;</td><td>&quot;&quot;Thank you so much for taking …</td><td>2</td><td>2</td><td>&quot;The business reply is polite, …</td><td>[&quot;subpar&quot;, &quot;disgusting&quot;, … &quot;disgusting $ilver mine $ubs&quot;]</td><td>[&quot;really stepped up their game a notch&quot;, &quot;great&quot;, … &quot;good job fella&#x27;s&quot;]</td><td>1</td><td>&quot;The key point partially captur…</td><td>4.192</td></tr></tbody></table></div>"
      ],
      "text/plain": [
       "shape: (5, 13)\n",
       "┌────────┬───────┬─────────────┬────────┬───┬─────────────┬─────────────┬─────────────┬────────────┐\n",
       "│ row_id ┆ label ┆ text        ┆ rating ┆ … ┆ compliment  ┆ faithfulnes ┆ key_point_j ┆ latency_se │\n",
       "│ ---    ┆ ---   ┆ ---         ┆ ---    ┆   ┆ ---         ┆ s           ┆ ustificatio ┆ c          │\n",
       "│ u32    ┆ i64   ┆ str         ┆ str    ┆   ┆ list[str]   ┆ ---         ┆ n           ┆ ---        │\n",
       "│        ┆       ┆             ┆        ┆   ┆             ┆ i64         ┆ ---         ┆ f64        │\n",
       "│        ┆       ┆             ┆        ┆   ┆             ┆             ┆ str         ┆            │\n",
       "╞════════╪═══════╪═════════════╪════════╪═══╪═════════════╪═════════════╪═════════════╪════════════╡\n",
       "│ 0      ┆ 4     ┆ The name is ┆ 4      ┆ … ┆ [\"The name  ┆ 0           ┆ The key     ┆ 4.136      │\n",
       "│        ┆       ┆ as good as  ┆        ┆   ┆ is as good  ┆             ┆ point       ┆            │\n",
       "│        ┆       ┆ the foo…    ┆        ┆   ┆ as the f…   ┆             ┆ includes    ┆            │\n",
       "│        ┆       ┆             ┆        ┆   ┆             ┆             ┆ multipl…    ┆            │\n",
       "│ 1      ┆ 4     ┆ I travel to ┆ 5      ┆ … ┆ [\"Food was  ┆ 2           ┆ The         ┆ 3.911      │\n",
       "│        ┆       ┆ Las Vegas   ┆        ┆   ┆ great\",     ┆             ┆ KEY_POINT   ┆            │\n",
       "│        ┆       ┆ monthly …   ┆        ┆   ┆ \"Was not    ┆             ┆ accurately  ┆            │\n",
       "│        ┆       ┆             ┆        ┆   ┆ su…         ┆             ┆ captu…      ┆            │\n",
       "│ 2      ┆ 4     ┆ My mate and ┆ 4      ┆ … ┆ [\"great     ┆ 2           ┆ The key     ┆ 5.404      │\n",
       "│        ┆       ┆ I just      ┆        ┆   ┆ food\", \"ent ┆             ┆ point       ┆            │\n",
       "│        ┆       ┆ checked     ┆        ┆   ┆ ertainment\" ┆             ┆ accurately  ┆            │\n",
       "│        ┆       ┆ out…        ┆        ┆   ┆ …           ┆             ┆ captu…      ┆            │\n",
       "│ 3      ┆ 4     ┆ The food is ┆ 4      ┆ … ┆ [\"food is   ┆ 1           ┆ The key     ┆ 5.2        │\n",
       "│        ┆       ┆ excellent.  ┆        ┆   ┆ excellent\", ┆             ┆ point       ┆            │\n",
       "│        ┆       ┆ I had t…    ┆        ┆   ┆ \"chicken…   ┆             ┆ partially   ┆            │\n",
       "│        ┆       ┆             ┆        ┆   ┆             ┆             ┆ captur…     ┆            │\n",
       "│ 4      ┆ 4     ┆ these guys  ┆ 4      ┆ … ┆ [\"really    ┆ 1           ┆ The key     ┆ 4.192      │\n",
       "│        ┆       ┆ have really ┆        ┆   ┆ stepped up  ┆             ┆ point       ┆            │\n",
       "│        ┆       ┆ stepped…    ┆        ┆   ┆ their game… ┆             ┆ partially   ┆            │\n",
       "│        ┆       ┆             ┆        ┆   ┆             ┆             ┆ captur…     ┆            │\n",
       "└────────┴───────┴─────────────┴────────┴───┴─────────────┴─────────────┴─────────────┴────────────┘"
      ]
     },
     "execution_count": 85,
     "metadata": {},
     "output_type": "execute_result"
    }
   ],
   "source": [
    "all_df = df.join(out_df, on=\"row_id\", how=\"left\")\n",
    "all_df.head()"
   ]
  },
  {
   "cell_type": "code",
   "execution_count": null,
   "id": "06c553e7",
   "metadata": {},
   "outputs": [
    {
     "data": {
      "text/plain": [
       "(4995, 13)"
      ]
     },
     "execution_count": 95,
     "metadata": {},
     "output_type": "execute_result"
    }
   ],
   "source": [
    "null_removed_df = all_df.drop_nulls()"
   ]
  },
  {
   "cell_type": "code",
   "execution_count": 103,
   "id": "f9bc0ad0",
   "metadata": {},
   "outputs": [
    {
     "data": {
      "text/html": [
       "<div><style>\n",
       ".dataframe > thead > tr,\n",
       ".dataframe > tbody > tr {\n",
       "  text-align: right;\n",
       "  white-space: pre-wrap;\n",
       "}\n",
       "</style>\n",
       "<small>shape: (5, 13)</small><table border=\"1\" class=\"dataframe\"><thead><tr><th>row_id</th><th>label</th><th>text</th><th>rating</th><th>business_response</th><th>tone</th><th>actionability</th><th>business_response_justification</th><th>complaint</th><th>compliment</th><th>faithfulness</th><th>key_point_justification</th><th>latency_sec</th></tr><tr><td>u32</td><td>i64</td><td>str</td><td>i64</td><td>str</td><td>i64</td><td>i64</td><td>str</td><td>list[str]</td><td>list[str]</td><td>i64</td><td>str</td><td>f64</td></tr></thead><tbody><tr><td>0</td><td>4</td><td>&quot;The name is as good as the foo…</td><td>4</td><td>&quot;&quot;Thank you so much for your ki…</td><td>2</td><td>2</td><td>&quot;The business reply is polite, …</td><td>[]</td><td>[&quot;The name is as good as the food&quot;, &quot;worth a stop&quot;, … &quot;a mom and pop Asian food place with all or your favorite taste liker teriyaki and orange chicken&quot;]</td><td>0</td><td>&quot;The key point includes multipl…</td><td>4.136</td></tr><tr><td>1</td><td>4</td><td>&quot;I travel to Las Vegas monthly …</td><td>5</td><td>&quot;&quot;Dear valued customer, we&#x27;re t…</td><td>2</td><td>2</td><td>&quot;The business reply is polite, …</td><td>[]</td><td>[&quot;Food was great&quot;, &quot;Was not sure what to expect ... Very interesting&quot;, … &quot;The best places to eat are away from the strip and this is one of those places&quot;]</td><td>2</td><td>&quot;The KEY_POINT accurately captu…</td><td>3.911</td></tr><tr><td>2</td><td>4</td><td>&quot;My mate and I just checked out…</td><td>4</td><td>&quot;&quot;Dear valued customer, \n",
       "\n",
       "Thank…</td><td>2</td><td>2</td><td>&quot;The business reply is polite, …</td><td>[&quot;difficulty finding the location&quot;, &quot;poor signage&quot;, … &quot;overpriced Cinnamon Roasted Almonds ($9.00)&quot;]</td><td>[&quot;great food&quot;, &quot;entertainment&quot;, … &quot;colorful amusement rides&quot;]</td><td>2</td><td>&quot;The key point accurately captu…</td><td>5.404</td></tr><tr><td>3</td><td>4</td><td>&quot;The food is excellent. I had t…</td><td>4</td><td>&quot;&quot;Dear valued customer, \n",
       "\n",
       "Thank…</td><td>2</td><td>2</td><td>&quot;The business reply is polite, …</td><td>[&quot;wait for table can be longer at peak hours&quot;, &quot;wait for refills&quot;, … &quot;biscuit could have used some butter or jelly&quot;]</td><td>[&quot;food is excellent&quot;, &quot;chicken and waffles were huge&quot;, … &quot;server brought drinks right away&quot;]</td><td>1</td><td>&quot;The key point partially captur…</td><td>5.2</td></tr><tr><td>4</td><td>4</td><td>&quot;these guys have really stepped…</td><td>4</td><td>&quot;&quot;Thank you so much for taking …</td><td>2</td><td>2</td><td>&quot;The business reply is polite, …</td><td>[&quot;subpar&quot;, &quot;disgusting&quot;, … &quot;disgusting $ilver mine $ubs&quot;]</td><td>[&quot;really stepped up their game a notch&quot;, &quot;great&quot;, … &quot;good job fella&#x27;s&quot;]</td><td>1</td><td>&quot;The key point partially captur…</td><td>4.192</td></tr></tbody></table></div>"
      ],
      "text/plain": [
       "shape: (5, 13)\n",
       "┌────────┬───────┬─────────────┬────────┬───┬─────────────┬─────────────┬─────────────┬────────────┐\n",
       "│ row_id ┆ label ┆ text        ┆ rating ┆ … ┆ compliment  ┆ faithfulnes ┆ key_point_j ┆ latency_se │\n",
       "│ ---    ┆ ---   ┆ ---         ┆ ---    ┆   ┆ ---         ┆ s           ┆ ustificatio ┆ c          │\n",
       "│ u32    ┆ i64   ┆ str         ┆ i64    ┆   ┆ list[str]   ┆ ---         ┆ n           ┆ ---        │\n",
       "│        ┆       ┆             ┆        ┆   ┆             ┆ i64         ┆ ---         ┆ f64        │\n",
       "│        ┆       ┆             ┆        ┆   ┆             ┆             ┆ str         ┆            │\n",
       "╞════════╪═══════╪═════════════╪════════╪═══╪═════════════╪═════════════╪═════════════╪════════════╡\n",
       "│ 0      ┆ 4     ┆ The name is ┆ 4      ┆ … ┆ [\"The name  ┆ 0           ┆ The key     ┆ 4.136      │\n",
       "│        ┆       ┆ as good as  ┆        ┆   ┆ is as good  ┆             ┆ point       ┆            │\n",
       "│        ┆       ┆ the foo…    ┆        ┆   ┆ as the f…   ┆             ┆ includes    ┆            │\n",
       "│        ┆       ┆             ┆        ┆   ┆             ┆             ┆ multipl…    ┆            │\n",
       "│ 1      ┆ 4     ┆ I travel to ┆ 5      ┆ … ┆ [\"Food was  ┆ 2           ┆ The         ┆ 3.911      │\n",
       "│        ┆       ┆ Las Vegas   ┆        ┆   ┆ great\",     ┆             ┆ KEY_POINT   ┆            │\n",
       "│        ┆       ┆ monthly …   ┆        ┆   ┆ \"Was not    ┆             ┆ accurately  ┆            │\n",
       "│        ┆       ┆             ┆        ┆   ┆ su…         ┆             ┆ captu…      ┆            │\n",
       "│ 2      ┆ 4     ┆ My mate and ┆ 4      ┆ … ┆ [\"great     ┆ 2           ┆ The key     ┆ 5.404      │\n",
       "│        ┆       ┆ I just      ┆        ┆   ┆ food\", \"ent ┆             ┆ point       ┆            │\n",
       "│        ┆       ┆ checked     ┆        ┆   ┆ ertainment\" ┆             ┆ accurately  ┆            │\n",
       "│        ┆       ┆ out…        ┆        ┆   ┆ …           ┆             ┆ captu…      ┆            │\n",
       "│ 3      ┆ 4     ┆ The food is ┆ 4      ┆ … ┆ [\"food is   ┆ 1           ┆ The key     ┆ 5.2        │\n",
       "│        ┆       ┆ excellent.  ┆        ┆   ┆ excellent\", ┆             ┆ point       ┆            │\n",
       "│        ┆       ┆ I had t…    ┆        ┆   ┆ \"chicken…   ┆             ┆ partially   ┆            │\n",
       "│        ┆       ┆             ┆        ┆   ┆             ┆             ┆ captur…     ┆            │\n",
       "│ 4      ┆ 4     ┆ these guys  ┆ 4      ┆ … ┆ [\"really    ┆ 1           ┆ The key     ┆ 4.192      │\n",
       "│        ┆       ┆ have really ┆        ┆   ┆ stepped up  ┆             ┆ point       ┆            │\n",
       "│        ┆       ┆ stepped…    ┆        ┆   ┆ their game… ┆             ┆ partially   ┆            │\n",
       "│        ┆       ┆             ┆        ┆   ┆             ┆             ┆ captur…     ┆            │\n",
       "└────────┴───────┴─────────────┴────────┴───┴─────────────┴─────────────┴─────────────┴────────────┘"
      ]
     },
     "execution_count": 103,
     "metadata": {},
     "output_type": "execute_result"
    }
   ],
   "source": [
    "null_removed_df = null_removed_df.with_columns(\n",
    "    null_removed_df[\"rating\"].cast(pl.Int64).alias(\"rating\"),\n",
    ")\n",
    "null_removed_df.head()"
   ]
  },
  {
   "cell_type": "code",
   "execution_count": null,
   "id": "925c77b0",
   "metadata": {},
   "outputs": [],
   "source": []
  }
 ],
 "metadata": {
  "kernelspec": {
   "display_name": ".venv",
   "language": "python",
   "name": "python3"
  },
  "language_info": {
   "codemirror_mode": {
    "name": "ipython",
    "version": 3
   },
   "file_extension": ".py",
   "mimetype": "text/x-python",
   "name": "python",
   "nbconvert_exporter": "python",
   "pygments_lexer": "ipython3",
   "version": "3.13.5"
  }
 },
 "nbformat": 4,
 "nbformat_minor": 5
}
