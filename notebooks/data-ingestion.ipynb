{
 "cells": [
  {
   "cell_type": "code",
   "execution_count": 1,
   "id": "e2293202",
   "metadata": {},
   "outputs": [
    {
     "name": "stderr",
     "output_type": "stream",
     "text": [
      "/Users/avinashgoen/projects/Prodigal-Assignment-V2/.venv/lib/python3.13/site-packages/tqdm/auto.py:21: TqdmWarning: IProgress not found. Please update jupyter and ipywidgets. See https://ipywidgets.readthedocs.io/en/stable/user_install.html\n",
      "  from .autonotebook import tqdm as notebook_tqdm\n"
     ]
    }
   ],
   "source": [
    "import uuid\n",
    "import polars as pl\n",
    "\n",
    "from chromadb import HttpClient\n",
    "from sentence_transformers import SentenceTransformer\n",
    "from typing import List\n"
   ]
  },
  {
   "cell_type": "code",
   "execution_count": 2,
   "id": "939e662a",
   "metadata": {},
   "outputs": [
    {
     "data": {
      "text/html": [
       "<div><style>\n",
       ".dataframe > thead > tr,\n",
       ".dataframe > tbody > tr {\n",
       "  text-align: right;\n",
       "  white-space: pre-wrap;\n",
       "}\n",
       "</style>\n",
       "<small>shape: (5, 3)</small><table border=\"1\" class=\"dataframe\"><thead><tr><th>label</th><th>text</th><th>embeddings</th></tr><tr><td>i64</td><td>str</td><td>array[f32, 384]</td></tr></thead><tbody><tr><td>4</td><td>&quot;dr. goldberg offers everything…</td><td>[0.045555, -0.052686, … 0.002462]</td></tr><tr><td>1</td><td>&quot;Unfortunately, the frustration…</td><td>[0.029399, -0.017978, … 0.011826]</td></tr><tr><td>3</td><td>&quot;Been going to Dr. Goldberg for…</td><td>[0.038964, -0.037059, … 0.004994]</td></tr><tr><td>3</td><td>&quot;Got a letter in the mail last …</td><td>[0.089701, -0.089196, … 0.030734]</td></tr><tr><td>0</td><td>&quot;I don&#x27;t know what Dr. Goldberg…</td><td>[-0.005041, 0.045442, … -0.028141]</td></tr></tbody></table></div>"
      ],
      "text/plain": [
       "shape: (5, 3)\n",
       "┌───────┬─────────────────────────────────┬─────────────────────────────────┐\n",
       "│ label ┆ text                            ┆ embeddings                      │\n",
       "│ ---   ┆ ---                             ┆ ---                             │\n",
       "│ i64   ┆ str                             ┆ array[f32, 384]                 │\n",
       "╞═══════╪═════════════════════════════════╪═════════════════════════════════╡\n",
       "│ 4     ┆ dr. goldberg offers everything… ┆ [0.045555, -0.052686, … 0.0024… │\n",
       "│ 1     ┆ Unfortunately, the frustration… ┆ [0.029399, -0.017978, … 0.0118… │\n",
       "│ 3     ┆ Been going to Dr. Goldberg for… ┆ [0.038964, -0.037059, … 0.0049… │\n",
       "│ 3     ┆ Got a letter in the mail last … ┆ [0.089701, -0.089196, … 0.0307… │\n",
       "│ 0     ┆ I don't know what Dr. Goldberg… ┆ [-0.005041, 0.045442, … -0.028… │\n",
       "└───────┴─────────────────────────────────┴─────────────────────────────────┘"
      ]
     },
     "execution_count": 2,
     "metadata": {},
     "output_type": "execute_result"
    }
   ],
   "source": [
    "train_df = pl.read_parquet('../data/train_yelp_review_embedded.parquet')\n",
    "train_df.head()"
   ]
  },
  {
   "cell_type": "code",
   "execution_count": 3,
   "id": "f6e3ce79",
   "metadata": {},
   "outputs": [],
   "source": [
    "embeding_model = SentenceTransformer('sentence-transformers/all-MiniLM-L6-v2', device=\"mps\", cache_folder=\"../cache\")"
   ]
  },
  {
   "cell_type": "code",
   "execution_count": 4,
   "id": "2c3e7408",
   "metadata": {},
   "outputs": [],
   "source": [
    "def create_embeddigns(entry):\n",
    "    output = embeding_model.encode([entry['text']], device=\"mps\")\n",
    "    return output[0]"
   ]
  },
  {
   "cell_type": "code",
   "execution_count": null,
   "id": "e7153ed3",
   "metadata": {},
   "outputs": [],
   "source": [
    "# texts = train_df.select('text').to_numpy().flatten()\n",
    "# embeddings = embeding_model.encode(texts, device=\"mps\")"
   ]
  },
  {
   "cell_type": "code",
   "execution_count": null,
   "id": "759b4231",
   "metadata": {},
   "outputs": [],
   "source": [
    "# train_df = train_df.with_columns(\n",
    "#     embeddings = pl.Series(name=\"embeddings\", values=embeddings)\n",
    "# )"
   ]
  },
  {
   "cell_type": "code",
   "execution_count": null,
   "id": "cfeef1f2",
   "metadata": {},
   "outputs": [],
   "source": [
    "# train_df.write_parquet(\"../data/train_yelp_review_embedded.parquet\")"
   ]
  },
  {
   "cell_type": "code",
   "execution_count": null,
   "id": "6662b7e0",
   "metadata": {},
   "outputs": [],
   "source": [
    "# train_df.head()"
   ]
  },
  {
   "cell_type": "code",
   "execution_count": 5,
   "id": "bbfbe41d",
   "metadata": {},
   "outputs": [],
   "source": [
    "client = HttpClient(host='localhost', port=8000)\n",
    "client.delete_collection(\"yelp_review\")\n",
    "collection = client.get_or_create_collection(\"yelp_review\", configuration={\n",
    "        \"hnsw\": {\n",
    "            \"space\": \"cosine\",\n",
    "            \"ef_construction\": 200\n",
    "        }\n",
    "    })"
   ]
  },
  {
   "cell_type": "code",
   "execution_count": 6,
   "id": "f6a880ec",
   "metadata": {},
   "outputs": [],
   "source": [
    "train_df = train_df.with_columns(\n",
    "    pl.arange(0, train_df.height).map_elements(\n",
    "        lambda _: str(uuid.uuid4()),\n",
    "        return_dtype=pl.Utf8\n",
    "    ).alias(\"ids\")\n",
    ")"
   ]
  },
  {
   "cell_type": "code",
   "execution_count": 7,
   "id": "4c142e38",
   "metadata": {},
   "outputs": [],
   "source": [
    "ids = train_df.select('ids').to_numpy().flatten().tolist()\n",
    "text = train_df.select('text').to_numpy().flatten().tolist()\n",
    "stars = list(map(lambda x: {\"star\": x}, train_df.select('label').to_numpy().flatten().tolist()))\n",
    "embeddings = train_df.select('embeddings').to_numpy().flatten().tolist()"
   ]
  },
  {
   "cell_type": "code",
   "execution_count": 8,
   "id": "07d84d57",
   "metadata": {},
   "outputs": [
    {
     "name": "stdout",
     "output_type": "stream",
     "text": [
      "Total rows to add: 650000\n",
      "Added rows 0-4999 (5000 records)\n",
      "Added rows 5000-9999 (5000 records)\n",
      "Added rows 10000-14999 (5000 records)\n",
      "Added rows 15000-19999 (5000 records)\n",
      "Added rows 20000-24999 (5000 records)\n",
      "Added rows 25000-29999 (5000 records)\n",
      "Added rows 30000-34999 (5000 records)\n",
      "Added rows 35000-39999 (5000 records)\n",
      "Added rows 40000-44999 (5000 records)\n",
      "Added rows 45000-49999 (5000 records)\n",
      "Added rows 50000-54999 (5000 records)\n",
      "Added rows 55000-59999 (5000 records)\n",
      "Added rows 60000-64999 (5000 records)\n",
      "Added rows 65000-69999 (5000 records)\n",
      "Added rows 70000-74999 (5000 records)\n",
      "Added rows 75000-79999 (5000 records)\n",
      "Added rows 80000-84999 (5000 records)\n",
      "Added rows 85000-89999 (5000 records)\n",
      "Added rows 90000-94999 (5000 records)\n",
      "Added rows 95000-99999 (5000 records)\n",
      "Added rows 100000-104999 (5000 records)\n",
      "Added rows 105000-109999 (5000 records)\n",
      "Added rows 110000-114999 (5000 records)\n",
      "Added rows 115000-119999 (5000 records)\n",
      "Added rows 120000-124999 (5000 records)\n",
      "Added rows 125000-129999 (5000 records)\n",
      "Added rows 130000-134999 (5000 records)\n",
      "Added rows 135000-139999 (5000 records)\n",
      "Added rows 140000-144999 (5000 records)\n",
      "Added rows 145000-149999 (5000 records)\n",
      "Added rows 150000-154999 (5000 records)\n",
      "Added rows 155000-159999 (5000 records)\n",
      "Added rows 160000-164999 (5000 records)\n",
      "Added rows 165000-169999 (5000 records)\n",
      "Added rows 170000-174999 (5000 records)\n",
      "Added rows 175000-179999 (5000 records)\n",
      "Added rows 180000-184999 (5000 records)\n",
      "Added rows 185000-189999 (5000 records)\n",
      "Added rows 190000-194999 (5000 records)\n",
      "Added rows 195000-199999 (5000 records)\n",
      "Added rows 200000-204999 (5000 records)\n",
      "Added rows 205000-209999 (5000 records)\n",
      "Added rows 210000-214999 (5000 records)\n",
      "Added rows 215000-219999 (5000 records)\n",
      "Added rows 220000-224999 (5000 records)\n",
      "Added rows 225000-229999 (5000 records)\n",
      "Added rows 230000-234999 (5000 records)\n",
      "Added rows 235000-239999 (5000 records)\n",
      "Added rows 240000-244999 (5000 records)\n",
      "Added rows 245000-249999 (5000 records)\n",
      "Added rows 250000-254999 (5000 records)\n",
      "Added rows 255000-259999 (5000 records)\n",
      "Added rows 260000-264999 (5000 records)\n",
      "Added rows 265000-269999 (5000 records)\n",
      "Added rows 270000-274999 (5000 records)\n",
      "Added rows 275000-279999 (5000 records)\n",
      "Added rows 280000-284999 (5000 records)\n",
      "Added rows 285000-289999 (5000 records)\n",
      "Added rows 290000-294999 (5000 records)\n",
      "Added rows 295000-299999 (5000 records)\n",
      "Added rows 300000-304999 (5000 records)\n",
      "Added rows 305000-309999 (5000 records)\n",
      "Added rows 310000-314999 (5000 records)\n",
      "Added rows 315000-319999 (5000 records)\n",
      "Added rows 320000-324999 (5000 records)\n",
      "Added rows 325000-329999 (5000 records)\n",
      "Added rows 330000-334999 (5000 records)\n",
      "Added rows 335000-339999 (5000 records)\n",
      "Added rows 340000-344999 (5000 records)\n",
      "Added rows 345000-349999 (5000 records)\n",
      "Added rows 350000-354999 (5000 records)\n",
      "Added rows 355000-359999 (5000 records)\n",
      "Added rows 360000-364999 (5000 records)\n",
      "Added rows 365000-369999 (5000 records)\n",
      "Added rows 370000-374999 (5000 records)\n",
      "Added rows 375000-379999 (5000 records)\n",
      "Added rows 380000-384999 (5000 records)\n",
      "Added rows 385000-389999 (5000 records)\n",
      "Added rows 390000-394999 (5000 records)\n",
      "Added rows 395000-399999 (5000 records)\n",
      "Added rows 400000-404999 (5000 records)\n",
      "Added rows 405000-409999 (5000 records)\n",
      "Added rows 410000-414999 (5000 records)\n",
      "Added rows 415000-419999 (5000 records)\n",
      "Added rows 420000-424999 (5000 records)\n",
      "Added rows 425000-429999 (5000 records)\n",
      "Added rows 430000-434999 (5000 records)\n",
      "Added rows 435000-439999 (5000 records)\n",
      "Added rows 440000-444999 (5000 records)\n",
      "Added rows 445000-449999 (5000 records)\n",
      "Added rows 450000-454999 (5000 records)\n",
      "Added rows 455000-459999 (5000 records)\n",
      "Added rows 460000-464999 (5000 records)\n",
      "Added rows 465000-469999 (5000 records)\n",
      "Added rows 470000-474999 (5000 records)\n",
      "Added rows 475000-479999 (5000 records)\n",
      "Added rows 480000-484999 (5000 records)\n",
      "Added rows 485000-489999 (5000 records)\n",
      "Added rows 490000-494999 (5000 records)\n",
      "Added rows 495000-499999 (5000 records)\n",
      "Added rows 500000-504999 (5000 records)\n",
      "Added rows 505000-509999 (5000 records)\n",
      "Added rows 510000-514999 (5000 records)\n",
      "Added rows 515000-519999 (5000 records)\n",
      "Added rows 520000-524999 (5000 records)\n",
      "Added rows 525000-529999 (5000 records)\n",
      "Added rows 530000-534999 (5000 records)\n",
      "Added rows 535000-539999 (5000 records)\n",
      "Added rows 540000-544999 (5000 records)\n",
      "Added rows 545000-549999 (5000 records)\n",
      "Added rows 550000-554999 (5000 records)\n",
      "Added rows 555000-559999 (5000 records)\n",
      "Added rows 560000-564999 (5000 records)\n",
      "Added rows 565000-569999 (5000 records)\n",
      "Added rows 570000-574999 (5000 records)\n",
      "Added rows 575000-579999 (5000 records)\n",
      "Added rows 580000-584999 (5000 records)\n",
      "Added rows 585000-589999 (5000 records)\n",
      "Added rows 590000-594999 (5000 records)\n",
      "Added rows 595000-599999 (5000 records)\n",
      "Added rows 600000-604999 (5000 records)\n",
      "Added rows 605000-609999 (5000 records)\n",
      "Added rows 610000-614999 (5000 records)\n",
      "Added rows 615000-619999 (5000 records)\n",
      "Added rows 620000-624999 (5000 records)\n",
      "Added rows 625000-629999 (5000 records)\n",
      "Added rows 630000-634999 (5000 records)\n",
      "Added rows 635000-639999 (5000 records)\n",
      "Added rows 640000-644999 (5000 records)\n",
      "Added rows 645000-649999 (5000 records)\n"
     ]
    }
   ],
   "source": [
    "total = len(ids)\n",
    "print(f\"Total rows to add: {total}\")\n",
    "BATCH_SIZE = 5000\n",
    "\n",
    "for start in range(0, total, BATCH_SIZE):\n",
    "    end = min(start + BATCH_SIZE, total)\n",
    "\n",
    "    batch_ids = ids[start:end]\n",
    "    batch_text = text[start:end]\n",
    "    batch_stars = stars[start:end]\n",
    "    batch_embeddings = embeddings[start:end]\n",
    "\n",
    "    collection.add(\n",
    "        ids=batch_ids,\n",
    "        embeddings=batch_embeddings,\n",
    "        metadatas=batch_stars,\n",
    "        documents=batch_text,\n",
    "    )\n",
    "    print(f\"Added rows {start}-{end-1} ({end-start} records)\")"
   ]
  },
  {
   "cell_type": "code",
   "execution_count": null,
   "id": "801687dc",
   "metadata": {},
   "outputs": [],
   "source": [
    "collection"
   ]
  }
 ],
 "metadata": {
  "kernelspec": {
   "display_name": ".venv",
   "language": "python",
   "name": "python3"
  },
  "language_info": {
   "codemirror_mode": {
    "name": "ipython",
    "version": 3
   },
   "file_extension": ".py",
   "mimetype": "text/x-python",
   "name": "python",
   "nbconvert_exporter": "python",
   "pygments_lexer": "ipython3",
   "version": "3.13.5"
  }
 },
 "nbformat": 4,
 "nbformat_minor": 5
}
